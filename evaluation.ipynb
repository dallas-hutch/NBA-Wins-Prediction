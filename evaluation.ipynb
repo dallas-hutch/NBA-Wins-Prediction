{
 "cells": [
  {
   "cell_type": "markdown",
   "id": "7769bf87-aca9-44c0-bbee-c9e29b6b168c",
   "metadata": {},
   "source": [
    "## Import relevant libraries"
   ]
  },
  {
   "cell_type": "code",
   "execution_count": 1,
   "id": "25915ba4-f1ef-41ef-97b2-a61df8607df3",
   "metadata": {},
   "outputs": [],
   "source": [
    "import pandas as pd\n",
    "from sklearn.metrics import mean_squared_error\n",
    "import math"
   ]
  },
  {
   "cell_type": "markdown",
   "id": "1882a1ca-a63a-4520-a64c-973f0a8dc3d5",
   "metadata": {},
   "source": [
    "## Read in the data"
   ]
  },
  {
   "cell_type": "code",
   "execution_count": 2,
   "id": "ca8764d8-1969-4929-b638-60c262dc8a97",
   "metadata": {},
   "outputs": [],
   "source": [
    "final = pd.read_csv(\"nba_final_standings.csv\")"
   ]
  },
  {
   "cell_type": "code",
   "execution_count": 3,
   "id": "583f278b-f4a2-46be-9caf-5cfd79d21f39",
   "metadata": {},
   "outputs": [
    {
     "data": {
      "text/html": [
       "<div>\n",
       "<style scoped>\n",
       "    .dataframe tbody tr th:only-of-type {\n",
       "        vertical-align: middle;\n",
       "    }\n",
       "\n",
       "    .dataframe tbody tr th {\n",
       "        vertical-align: top;\n",
       "    }\n",
       "\n",
       "    .dataframe thead th {\n",
       "        text-align: right;\n",
       "    }\n",
       "</style>\n",
       "<table border=\"1\" class=\"dataframe\">\n",
       "  <thead>\n",
       "    <tr style=\"text-align: right;\">\n",
       "      <th></th>\n",
       "      <th>Conference</th>\n",
       "      <th>Team</th>\n",
       "      <th>Actual_Wins</th>\n",
       "      <th>Actual_Win%</th>\n",
       "      <th>BballRef_Proj_Wins</th>\n",
       "      <th>BballRef_Proj_Win%</th>\n",
       "      <th>Proj_Wins</th>\n",
       "      <th>Proj_Win%</th>\n",
       "      <th>G_Left</th>\n",
       "      <th>Wins</th>\n",
       "      <th>Pred_Wins_PAS</th>\n",
       "      <th>Pred_Win_Diff</th>\n",
       "      <th>Win%_PAS</th>\n",
       "      <th>Pred_Win%_PAS</th>\n",
       "      <th>Win%_PAS_Diff</th>\n",
       "    </tr>\n",
       "  </thead>\n",
       "  <tbody>\n",
       "    <tr>\n",
       "      <th>0</th>\n",
       "      <td>East</td>\n",
       "      <td>Atlanta Hawks</td>\n",
       "      <td>43</td>\n",
       "      <td>0.524</td>\n",
       "      <td>40.9</td>\n",
       "      <td>0.499</td>\n",
       "      <td>42.5</td>\n",
       "      <td>0.518</td>\n",
       "      <td>24</td>\n",
       "      <td>15</td>\n",
       "      <td>14.455449</td>\n",
       "      <td>0.544551</td>\n",
       "      <td>0.625</td>\n",
       "      <td>0.602310</td>\n",
       "      <td>0.022690</td>\n",
       "    </tr>\n",
       "    <tr>\n",
       "      <th>1</th>\n",
       "      <td>East</td>\n",
       "      <td>Boston Celtics</td>\n",
       "      <td>51</td>\n",
       "      <td>0.622</td>\n",
       "      <td>47.8</td>\n",
       "      <td>0.583</td>\n",
       "      <td>47.9</td>\n",
       "      <td>0.584</td>\n",
       "      <td>22</td>\n",
       "      <td>17</td>\n",
       "      <td>13.889717</td>\n",
       "      <td>3.110283</td>\n",
       "      <td>0.773</td>\n",
       "      <td>0.631351</td>\n",
       "      <td>0.141376</td>\n",
       "    </tr>\n",
       "    <tr>\n",
       "      <th>2</th>\n",
       "      <td>East</td>\n",
       "      <td>Brooklyn Nets</td>\n",
       "      <td>44</td>\n",
       "      <td>0.537</td>\n",
       "      <td>42.2</td>\n",
       "      <td>0.514</td>\n",
       "      <td>41.8</td>\n",
       "      <td>0.509</td>\n",
       "      <td>23</td>\n",
       "      <td>13</td>\n",
       "      <td>10.760140</td>\n",
       "      <td>2.239860</td>\n",
       "      <td>0.565</td>\n",
       "      <td>0.467832</td>\n",
       "      <td>0.097385</td>\n",
       "    </tr>\n",
       "    <tr>\n",
       "      <th>3</th>\n",
       "      <td>East</td>\n",
       "      <td>Charlotte Hornets</td>\n",
       "      <td>43</td>\n",
       "      <td>0.524</td>\n",
       "      <td>39.8</td>\n",
       "      <td>0.485</td>\n",
       "      <td>38.0</td>\n",
       "      <td>0.464</td>\n",
       "      <td>22</td>\n",
       "      <td>14</td>\n",
       "      <td>9.038929</td>\n",
       "      <td>4.961071</td>\n",
       "      <td>0.636</td>\n",
       "      <td>0.410860</td>\n",
       "      <td>0.225503</td>\n",
       "    </tr>\n",
       "    <tr>\n",
       "      <th>4</th>\n",
       "      <td>East</td>\n",
       "      <td>Chicago Bulls</td>\n",
       "      <td>46</td>\n",
       "      <td>0.561</td>\n",
       "      <td>49.4</td>\n",
       "      <td>0.603</td>\n",
       "      <td>53.1</td>\n",
       "      <td>0.647</td>\n",
       "      <td>23</td>\n",
       "      <td>8</td>\n",
       "      <td>15.082566</td>\n",
       "      <td>-7.082566</td>\n",
       "      <td>0.348</td>\n",
       "      <td>0.655764</td>\n",
       "      <td>-0.307938</td>\n",
       "    </tr>\n",
       "  </tbody>\n",
       "</table>\n",
       "</div>"
      ],
      "text/plain": [
       "  Conference               Team  Actual_Wins  Actual_Win%  BballRef_Proj_Wins  \\\n",
       "0       East      Atlanta Hawks           43        0.524                40.9   \n",
       "1       East     Boston Celtics           51        0.622                47.8   \n",
       "2       East      Brooklyn Nets           44        0.537                42.2   \n",
       "3       East  Charlotte Hornets           43        0.524                39.8   \n",
       "4       East      Chicago Bulls           46        0.561                49.4   \n",
       "\n",
       "   BballRef_Proj_Win%  Proj_Wins  Proj_Win%  G_Left  Wins  Pred_Wins_PAS  \\\n",
       "0               0.499       42.5      0.518      24    15      14.455449   \n",
       "1               0.583       47.9      0.584      22    17      13.889717   \n",
       "2               0.514       41.8      0.509      23    13      10.760140   \n",
       "3               0.485       38.0      0.464      22    14       9.038929   \n",
       "4               0.603       53.1      0.647      23     8      15.082566   \n",
       "\n",
       "   Pred_Win_Diff  Win%_PAS  Pred_Win%_PAS  Win%_PAS_Diff  \n",
       "0       0.544551     0.625       0.602310       0.022690  \n",
       "1       3.110283     0.773       0.631351       0.141376  \n",
       "2       2.239860     0.565       0.467832       0.097385  \n",
       "3       4.961071     0.636       0.410860       0.225503  \n",
       "4      -7.082566     0.348       0.655764      -0.307938  "
      ]
     },
     "execution_count": 3,
     "metadata": {},
     "output_type": "execute_result"
    }
   ],
   "source": [
    "### This csv contains NBA team final season standings, predicted wins and win% based on our partial least squares model, and projected wins and win% from\n",
    "### basketball-reference.com. Note the projected statistics from our model and basketball-reference were taken from projections on February 24th, 2022, \n",
    "### during the All-Star break. Let's see how well our PLS model predicted post All-Star break wins for each team. We can also compare results to the\n",
    "### projections basketball-reference.com make public on their site.\n",
    "\n",
    "final.head()"
   ]
  },
  {
   "cell_type": "code",
   "execution_count": 4,
   "id": "4f9e9a4b-a35a-4161-9e57-8560f803882a",
   "metadata": {},
   "outputs": [
    {
     "name": "stdout",
     "output_type": "stream",
     "text": [
      "Root Mean Square Error:\n",
      "\n",
      "3.5 wins\n"
     ]
    }
   ],
   "source": [
    "## Evaluate the RMSE between predicted wins using the Partial Least Squares Regression model and actual post All-Star break team wins\n",
    "\n",
    "y_actual = final['Wins']\n",
    "y_pred = final['Pred_Wins_PAS']\n",
    "\n",
    "MSE = mean_squared_error(y_actual, y_pred)\n",
    "RMSE = math.sqrt(MSE)\n",
    "\n",
    "print(\"Root Mean Square Error:\\n\")\n",
    "print(round(RMSE,2), 'wins')"
   ]
  },
  {
   "cell_type": "code",
   "execution_count": 5,
   "id": "f48f3173-9561-4f42-9f7f-210431b1acc3",
   "metadata": {},
   "outputs": [
    {
     "name": "stdout",
     "output_type": "stream",
     "text": [
      "Root Mean Square Error:\n",
      "\n",
      "0.152 win %\n"
     ]
    }
   ],
   "source": [
    "## Evaluate the RMSE between predicted win % using the Partial Least Squares Regression model and actual post All-Star break team win %\n",
    "\n",
    "y_actual = final['Win%_PAS']\n",
    "y_pred = final['Pred_Win%_PAS']\n",
    "\n",
    "MSE = mean_squared_error(y_actual, y_pred)\n",
    "RMSE = math.sqrt(MSE)\n",
    "\n",
    "print(\"Root Mean Square Error:\\n\")\n",
    "print(round(RMSE,3), 'win %')"
   ]
  },
  {
   "cell_type": "code",
   "execution_count": 6,
   "id": "692d6620-bc9a-44f4-8853-1695dd273d71",
   "metadata": {},
   "outputs": [
    {
     "name": "stdout",
     "output_type": "stream",
     "text": [
      "Root Mean Square Error:\n",
      "\n",
      "3.203 wins\n"
     ]
    }
   ],
   "source": [
    "## Evaluate the RMSE between predicted wins from basketball-reference.com and actual post All-Star break team wins\n",
    "\n",
    "y_actual = final['Actual_Wins']\n",
    "y_pred = final['BballRef_Proj_Wins']\n",
    "\n",
    "MSE = mean_squared_error(y_actual, y_pred)\n",
    "RMSE = math.sqrt(MSE)\n",
    "\n",
    "print(\"Root Mean Square Error:\\n\")\n",
    "print(round(RMSE,3), 'wins')"
   ]
  },
  {
   "cell_type": "code",
   "execution_count": 7,
   "id": "3fda2c8a-6759-4aa8-89aa-cc29a3f8a60a",
   "metadata": {},
   "outputs": [],
   "source": [
    "final = final.rename(columns = {\"Pred_Win_Diff\": \"Wins_over_Pred\"})"
   ]
  },
  {
   "cell_type": "code",
   "execution_count": 8,
   "id": "d6d95427-63f6-4ea7-8dbf-79b1a3933e83",
   "metadata": {},
   "outputs": [
    {
     "data": {
      "text/html": [
       "<div>\n",
       "<style scoped>\n",
       "    .dataframe tbody tr th:only-of-type {\n",
       "        vertical-align: middle;\n",
       "    }\n",
       "\n",
       "    .dataframe tbody tr th {\n",
       "        vertical-align: top;\n",
       "    }\n",
       "\n",
       "    .dataframe thead th {\n",
       "        text-align: right;\n",
       "    }\n",
       "</style>\n",
       "<table border=\"1\" class=\"dataframe\">\n",
       "  <thead>\n",
       "    <tr style=\"text-align: right;\">\n",
       "      <th></th>\n",
       "      <th>Team</th>\n",
       "      <th>Wins</th>\n",
       "      <th>Wins_over_Pred</th>\n",
       "    </tr>\n",
       "  </thead>\n",
       "  <tbody>\n",
       "    <tr>\n",
       "      <th>24</th>\n",
       "      <td>Portland Trail Blazers</td>\n",
       "      <td>2</td>\n",
       "      <td>-7.655692</td>\n",
       "    </tr>\n",
       "    <tr>\n",
       "      <th>4</th>\n",
       "      <td>Chicago Bulls</td>\n",
       "      <td>8</td>\n",
       "      <td>-7.082566</td>\n",
       "    </tr>\n",
       "    <tr>\n",
       "      <th>13</th>\n",
       "      <td>LA Lakers</td>\n",
       "      <td>6</td>\n",
       "      <td>-4.964549</td>\n",
       "    </tr>\n",
       "    <tr>\n",
       "      <th>9</th>\n",
       "      <td>GS Warriors</td>\n",
       "      <td>11</td>\n",
       "      <td>-4.255362</td>\n",
       "    </tr>\n",
       "    <tr>\n",
       "      <th>5</th>\n",
       "      <td>Cleveland Cavaliers</td>\n",
       "      <td>9</td>\n",
       "      <td>-4.244997</td>\n",
       "    </tr>\n",
       "  </tbody>\n",
       "</table>\n",
       "</div>"
      ],
      "text/plain": [
       "                      Team  Wins  Wins_over_Pred\n",
       "24  Portland Trail Blazers     2       -7.655692\n",
       "4            Chicago Bulls     8       -7.082566\n",
       "13               LA Lakers     6       -4.964549\n",
       "9              GS Warriors    11       -4.255362\n",
       "5      Cleveland Cavaliers     9       -4.244997"
      ]
     },
     "execution_count": 8,
     "metadata": {},
     "output_type": "execute_result"
    }
   ],
   "source": [
    "## Which 5 teams were underperformers?\n",
    "\n",
    "final.loc[:, [\"Team\", \"Wins\", \"Wins_over_Pred\"]].sort_values(\"Wins_over_Pred\").head(5)"
   ]
  },
  {
   "cell_type": "code",
   "execution_count": 9,
   "id": "6c469945-a040-4eb2-a297-5fb09af56dca",
   "metadata": {},
   "outputs": [
    {
     "data": {
      "text/html": [
       "<div>\n",
       "<style scoped>\n",
       "    .dataframe tbody tr th:only-of-type {\n",
       "        vertical-align: middle;\n",
       "    }\n",
       "\n",
       "    .dataframe tbody tr th {\n",
       "        vertical-align: top;\n",
       "    }\n",
       "\n",
       "    .dataframe thead th {\n",
       "        text-align: right;\n",
       "    }\n",
       "</style>\n",
       "<table border=\"1\" class=\"dataframe\">\n",
       "  <thead>\n",
       "    <tr style=\"text-align: right;\">\n",
       "      <th></th>\n",
       "      <th>Team</th>\n",
       "      <th>Wins</th>\n",
       "      <th>Wins_over_Pred</th>\n",
       "    </tr>\n",
       "  </thead>\n",
       "  <tbody>\n",
       "    <tr>\n",
       "      <th>8</th>\n",
       "      <td>Detroit Pistons</td>\n",
       "      <td>10</td>\n",
       "      <td>5.462839</td>\n",
       "    </tr>\n",
       "    <tr>\n",
       "      <th>3</th>\n",
       "      <td>Charlotte Hornets</td>\n",
       "      <td>14</td>\n",
       "      <td>4.961071</td>\n",
       "    </tr>\n",
       "    <tr>\n",
       "      <th>21</th>\n",
       "      <td>Orlando Magic</td>\n",
       "      <td>9</td>\n",
       "      <td>4.347875</td>\n",
       "    </tr>\n",
       "    <tr>\n",
       "      <th>18</th>\n",
       "      <td>New Orleans Pelicans</td>\n",
       "      <td>13</td>\n",
       "      <td>3.646139</td>\n",
       "    </tr>\n",
       "    <tr>\n",
       "      <th>17</th>\n",
       "      <td>Minnesota Timberwolves</td>\n",
       "      <td>15</td>\n",
       "      <td>3.367283</td>\n",
       "    </tr>\n",
       "  </tbody>\n",
       "</table>\n",
       "</div>"
      ],
      "text/plain": [
       "                      Team  Wins  Wins_over_Pred\n",
       "8          Detroit Pistons    10        5.462839\n",
       "3        Charlotte Hornets    14        4.961071\n",
       "21           Orlando Magic     9        4.347875\n",
       "18    New Orleans Pelicans    13        3.646139\n",
       "17  Minnesota Timberwolves    15        3.367283"
      ]
     },
     "execution_count": 9,
     "metadata": {},
     "output_type": "execute_result"
    }
   ],
   "source": [
    "## Which 5 teams were overperformers?\n",
    "\n",
    "final.loc[:, [\"Team\", \"Wins\", \"Wins_over_Pred\"]].sort_values(\"Wins_over_Pred\", ascending=False).head(5)"
   ]
  }
 ],
 "metadata": {
  "kernelspec": {
   "display_name": "Python 3 (ipykernel)",
   "language": "python",
   "name": "python3"
  },
  "language_info": {
   "codemirror_mode": {
    "name": "ipython",
    "version": 3
   },
   "file_extension": ".py",
   "mimetype": "text/x-python",
   "name": "python",
   "nbconvert_exporter": "python",
   "pygments_lexer": "ipython3",
   "version": "3.9.7"
  }
 },
 "nbformat": 4,
 "nbformat_minor": 5
}
